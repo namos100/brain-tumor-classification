{
  "nbformat": 4,
  "nbformat_minor": 0,
  "metadata": {
    "colab": {
      "name": "bt_split.ipynb",
      "provenance": []
    },
    "kernelspec": {
      "name": "python3",
      "display_name": "Python 3"
    },
    "language_info": {
      "name": "python"
    }
  },
  "cells": [
    {
      "cell_type": "code",
      "execution_count": null,
      "metadata": {
        "id": "vJW4LJCNamuk"
      },
      "outputs": [],
      "source": [
        "#!unzip braintumor.zip \n",
        "INPUT_DATASET = \"/content/drive/MyDrive/mini_project/T_DATASET\" #4 folders\n",
        "\n",
        "OUTPUT_DATASET='/content/drive/MyDrive/mini_project/OUTPUT_DATASET'\n",
        "#os.makedirs(OUTPUT_DATASET)\n",
        "#shutil.rmtree(OUTPUT_DATASET\n"
      ]
    },
    {
      "cell_type": "code",
      "source": [
        "import numpy as np\n",
        "from imutils import paths\n",
        "import random, shutil, os\n",
        "\n",
        "\n",
        "classes =os.listdir(INPUT_DATASET)\n",
        "print(classes)\n",
        "\n",
        "for i in classes:\n",
        "    os.makedirs(OUTPUT_DATASET +'/train/' + i)\n",
        "\n",
        "    os.makedirs(OUTPUT_DATASET +'/validation/' + i)\n",
        "\n",
        "    os.makedirs(OUTPUT_DATASET +'/test/' + i)\n",
        "\n",
        "    source = INPUT_DATASET + '/' + i\n",
        "\n",
        "    allFileNames = os.listdir(source)\n",
        "\n",
        "    np.random.shuffle(allFileNames)\n",
        "\n",
        "    test_ratio = 0.2\n",
        "    val_ratio = 0.1\n",
        "\n",
        "    train_FileNames, test_FileNames,val_FileNames = np.split(np.array(allFileNames),[int(len(allFileNames)* (1 - test_ratio)),int(len(allFileNames)* (1 - val_ratio))])\n",
        "\n",
        "\n",
        "    train_FileNames = [source+'/'+ name for name in train_FileNames.tolist()]\n",
        "    test_FileNames = [source+'/' + name for name in test_FileNames.tolist()]\n",
        "    val_FileNames = [source+'/' + name for name in val_FileNames.tolist()]\n",
        "\n",
        "    for name in train_FileNames:\n",
        "      shutil.copy(name, OUTPUT_DATASET +'/train/' + i)\n",
        "\n",
        "    for name in test_FileNames:\n",
        "      shutil.copy(name, OUTPUT_DATASET +'/test/' + i)\n",
        "    \n",
        "    for name in val_FileNames:\n",
        "      shutil.copy(name, OUTPUT_DATASET +'/validation/' + i)"
      ],
      "metadata": {
        "id": "CoiV3S_ibBb2"
      },
      "execution_count": null,
      "outputs": []
    }
  ]
}