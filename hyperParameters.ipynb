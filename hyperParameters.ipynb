{
  "cells": [
    {
      "cell_type": "code",
      "execution_count": 1,
      "metadata": {
        "colab": {
          "base_uri": "https://localhost:8080/"
        },
        "id": "cbImyyI1oKbh",
        "outputId": "2c952a55-9185-47bc-e391-c299bcad58d3"
      },
      "outputs": [
        {
          "output_type": "stream",
          "name": "stdout",
          "text": [
            "Mounted at /content/drive\n"
          ]
        }
      ],
      "source": [
        "from google.colab import drive\n",
        "drive.mount('/content/drive')"
      ]
    },
    {
      "cell_type": "code",
      "execution_count": 2,
      "metadata": {
        "id": "Y5aK2OTdobDb"
      },
      "outputs": [],
      "source": [
        "from __future__ import absolute_import, division, print_function, unicode_literals\n",
        "from tensorflow import keras\n",
        "from keras.preprocessing.image import ImageDataGenerator, load_img\n",
        "import matplotlib.pylab as plt\n",
        "import tensorflow as tf\n",
        "import tensorflow_hub as hub\n",
        "import numpy as np\n",
        "import matplotlib.pylab as plt\n",
        "import os\n",
        "from tensorflow.keras.callbacks import ModelCheckpoint\n",
        "from keras.callbacks import EarlyStopping\n",
        "from sklearn.metrics import classification_report,confusion_matrix\n",
        "from sklearn.metrics import f1_score,recall_score,accuracy_score,precision_score\n"
      ]
    },
    {
      "cell_type": "code",
      "execution_count": 3,
      "metadata": {
        "id": "gQHx9fskobGd"
      },
      "outputs": [],
      "source": [
        "from keras.layers import *\n",
        "from keras.models import *\n",
        "from keras.callbacks import *"
      ]
    },
    {
      "cell_type": "code",
      "execution_count": null,
      "metadata": {
        "id": "0duBn5KWobJH"
      },
      "outputs": [],
      "source": [
        "!pip install keras-tuner"
      ]
    },
    {
      "cell_type": "code",
      "execution_count": 5,
      "metadata": {
        "colab": {
          "base_uri": "https://localhost:8080/"
        },
        "id": "5J5RWFunxNN1",
        "outputId": "a622ed3f-bc37-45a0-b710-e200687bb00c"
      },
      "outputs": [
        {
          "output_type": "stream",
          "name": "stdout",
          "text": [
            "Looking in indexes: https://pypi.org/simple, https://us-python.pkg.dev/colab-wheels/public/simple/\n",
            "Requirement already satisfied: protobuf in /usr/local/lib/python3.7/dist-packages (3.17.3)\n",
            "Requirement already satisfied: six>=1.9 in /usr/local/lib/python3.7/dist-packages (from protobuf) (1.15.0)\n"
          ]
        },
        {
          "output_type": "stream",
          "name": "stderr",
          "text": [
            "/usr/local/lib/python3.7/dist-packages/ipykernel_launcher.py:2: DeprecationWarning: `import kerastuner` is deprecated, please use `import keras_tuner`.\n",
            "  \n"
          ]
        }
      ],
      "source": [
        "!pip install protobuf\n",
        "from kerastuner import RandomSearch\n",
        "from kerastuner.engine.hyperparameters import HyperParameters"
      ]
    },
    {
      "cell_type": "code",
      "execution_count": 6,
      "metadata": {
        "id": "ajQ03u_0obLl"
      },
      "outputs": [],
      "source": [
        "train_ds='/content/drive/MyDrive/project_neural_net/OUPUT_DATASET/train'\n",
        "test_ds='/content/drive/MyDrive/project_neural_net/OUPUT_DATASET/test'\n",
        "val_ds='/content/drive/MyDrive/project_neural_net/OUPUT_DATASET/validation'\n",
        "\n",
        "train_no_tumor=os.listdir(train_ds+'/no_tumor')\n",
        "train_glioma_tumor=os.listdir(train_ds+'/glioma_tumor')\n",
        "train_pituitary_tumor=os.listdir(train_ds+'/pituitary_tumor')\n",
        "train_meningioma_tumor=os.listdir(train_ds+'/meningioma_tumor')\n",
        "\n",
        "test_no_tumor=os.listdir(test_ds+'/no_tumor')\n",
        "test_glioma_tumor=os.listdir(test_ds+'/glioma_tumor')\n",
        "test_pituitary_tumor=os.listdir(test_ds+'/pituitary_tumor')\n",
        "test_meningioma_tumor=os.listdir(test_ds+'/meningioma_tumor')\n",
        "\n",
        "val_no_tumor=os.listdir(val_ds+'/no_tumor')\n",
        "val_glioma_tumor=os.listdir(val_ds+'/glioma_tumor')\n",
        "val_pituitary_tumor=os.listdir(val_ds+'/pituitary_tumor')\n",
        "val_meningioma_tumor=os.listdir(val_ds+'/meningioma_tumor')"
      ]
    },
    {
      "cell_type": "markdown",
      "metadata": {
        "id": "nDMg-Wv2ugTm"
      },
      "source": [
        "**DATA size:**"
      ]
    },
    {
      "cell_type": "code",
      "execution_count": 7,
      "metadata": {
        "colab": {
          "base_uri": "https://localhost:8080/"
        },
        "id": "K8B0tQBUobPa",
        "outputId": "5ec6bda3-0ef2-41c6-d34f-35e62bd2b70e"
      },
      "outputs": [
        {
          "output_type": "stream",
          "name": "stdout",
          "text": [
            "train no tumor size:  300\n",
            "train glioma tumor size: 272\n",
            "train pituitary tumor size:  268\n",
            "train meningioma tumor size: 272\n"
          ]
        }
      ],
      "source": [
        "print('train no tumor size: ',len(train_no_tumor))\n",
        "print('train glioma tumor size:',len(train_glioma_tumor))\n",
        "print('train pituitary tumor size: ',len(train_pituitary_tumor))\n",
        "print('train meningioma tumor size:',len(train_meningioma_tumor))"
      ]
    },
    {
      "cell_type": "code",
      "execution_count": 8,
      "metadata": {
        "colab": {
          "base_uri": "https://localhost:8080/"
        },
        "id": "axIRzw-Jt6LN",
        "outputId": "ea897ddf-0dd8-4560-afb8-59b931e38778"
      },
      "outputs": [
        {
          "output_type": "stream",
          "name": "stdout",
          "text": [
            "test no tumor size:  50\n",
            "test glioma tumor size: 93\n",
            "test pituitary tumor size:  90\n",
            "test meningioma tumor size: 94\n"
          ]
        }
      ],
      "source": [
        "print('test no tumor size: ',len(test_no_tumor))\n",
        "print('test glioma tumor size:',len(test_glioma_tumor))\n",
        "print('test pituitary tumor size: ',len(test_pituitary_tumor))\n",
        "print('test meningioma tumor size:',len(test_meningioma_tumor))"
      ]
    },
    {
      "cell_type": "code",
      "execution_count": 9,
      "metadata": {
        "colab": {
          "base_uri": "https://localhost:8080/"
        },
        "id": "10vm-L17t6Nu",
        "outputId": "b0f10422-5beb-47c0-e87b-67ac2dcfa313"
      },
      "outputs": [
        {
          "output_type": "stream",
          "name": "stdout",
          "text": [
            "val no tumor size:  50\n",
            "val glioma tumor size: 93\n",
            "val pituitary tumor size:  91\n",
            "val meningioma tumor size: 94\n"
          ]
        }
      ],
      "source": [
        "print('val no tumor size: ',len(val_no_tumor))\n",
        "print('val glioma tumor size:',len(val_glioma_tumor))\n",
        "print('val pituitary tumor size: ',len(val_pituitary_tumor))\n",
        "print('val meningioma tumor size:',len(val_meningioma_tumor))"
      ]
    },
    {
      "cell_type": "markdown",
      "metadata": {
        "id": "S_BavNrquj4j"
      },
      "source": [
        "**Augmentation:**"
      ]
    },
    {
      "cell_type": "code",
      "execution_count": 10,
      "metadata": {
        "id": "fWkA2xC8t6QB"
      },
      "outputs": [],
      "source": [
        "trainAug = ImageDataGenerator(rescale = 1./255,validation_split = 0.2,                                  \n",
        "        rotation_range=5,width_shift_range=0.2,height_shift_range=0.2,\n",
        "        shear_range=0.2, zoom_range=0.2,\n",
        "        horizontal_flip=True,vertical_flip=True,\n",
        "        fill_mode='nearest')\n",
        "\n",
        "\n",
        "valAug=ImageDataGenerator(rescale=1./255, validation_split = 0.2)\n",
        "\n",
        "testAug=ImageDataGenerator(rescale=1./255 )"
      ]
    },
    {
      "cell_type": "markdown",
      "metadata": {
        "id": "rl9gAhRcuynZ"
      },
      "source": [
        "**The use of Augmentation:**"
      ]
    },
    {
      "cell_type": "code",
      "execution_count": 11,
      "metadata": {
        "colab": {
          "base_uri": "https://localhost:8080/"
        },
        "id": "-8YensrKt6S_",
        "outputId": "ff20ca8e-f297-4a49-9fc4-f2ffe4d0a25e"
      },
      "outputs": [
        {
          "output_type": "stream",
          "name": "stdout",
          "text": [
            "Found 1112 images belonging to 4 classes.\n",
            "Found 327 images belonging to 4 classes.\n",
            "Found 328 images belonging to 4 classes.\n"
          ]
        }
      ],
      "source": [
        "train_dataset  = trainAug.flow_from_directory(directory = train_ds,\n",
        "                                                   target_size = (224,224),\n",
        "                                                   class_mode = 'categorical',\n",
        "                                                   batch_size = 64)\n",
        "\n",
        "valid_dataset = valAug.flow_from_directory(directory = test_ds,\n",
        "                                                  target_size = (224,224),\n",
        "                                                  class_mode = 'categorical',\n",
        "                                                  batch_size = 64)\n",
        "\n",
        "test_dataset = testAug.flow_from_directory(directory = val_ds,\n",
        "                                                  target_size = (224,224),\n",
        "                                                  class_mode = 'categorical',\n",
        "                                                  batch_size = 64)"
      ]
    },
    {
      "cell_type": "markdown",
      "metadata": {
        "id": "gCDnOoXzvR0H"
      },
      "source": [
        "**Print the Tag of datasets:**"
      ]
    },
    {
      "cell_type": "code",
      "execution_count": 12,
      "metadata": {
        "colab": {
          "base_uri": "https://localhost:8080/"
        },
        "id": "Y_sdgYIIt6WZ",
        "outputId": "0099e56e-1ade-404b-b55e-cb6521d3d85a"
      },
      "outputs": [
        {
          "output_type": "stream",
          "name": "stdout",
          "text": [
            "Image batch shape:  (64, 224, 224, 3)\n",
            "Label batch shape:  (64, 4)\n",
            "0:  Glioma_Tumor\n",
            "1:  Meningioma_Tumor\n",
            "2:  No_Tumor\n",
            "3:  Pituitary_Tumor\n"
          ]
        }
      ],
      "source": [
        "import scipy\n",
        "image_batch_train, label_batch_train = next(iter(train_dataset))\n",
        "print(\"Image batch shape: \", image_batch_train.shape)\n",
        "print(\"Label batch shape: \", label_batch_train.shape)\n",
        "dataset_labels = sorted(train_dataset.class_indices.items(), key=lambda pair:pair[1])\n",
        "dataset_labels = np.array([key.title() for key, value in dataset_labels])\n",
        "print('0: ',dataset_labels[0])\n",
        "print('1: ',dataset_labels[1])\n",
        "print('2: ',dataset_labels[2])\n",
        "print('3: ',dataset_labels[3])"
      ]
    },
    {
      "cell_type": "markdown",
      "metadata": {
        "id": "Hd1iDwUTwnzW"
      },
      "source": [
        "**HyperParameters Models:**"
      ]
    },
    {
      "cell_type": "code",
      "execution_count": 13,
      "metadata": {
        "id": "kuBLv_IdvDhp"
      },
      "outputs": [],
      "source": [
        "def build_model(hp):  \n",
        "  model = keras.Sequential([\n",
        "    keras.layers.Conv2D(\n",
        "        filters=hp.Int('conv_1_filter', min_value=32, max_value=128, step=16),\n",
        "        kernel_size=hp.Choice('conv_1_kernel', values = [3,5]),\n",
        "        activation='relu',\n",
        "        input_shape=(224,224,3)\n",
        "    ),\n",
        "    keras.layers.Conv2D(\n",
        "        filters=hp.Int('conv_2_filter', min_value=32, max_value=64, step=16),\n",
        "        kernel_size=hp.Choice('conv_2_kernel', values = [3,5]),\n",
        "        activation='relu'\n",
        "    ),\n",
        "    keras.layers.MaxPool2D(\n",
        "        pool_size = hp.Choice('pool_1_size', values = [3,5])\n",
        "      ),\n",
        "    keras.layers.Dropout(0.3),\n",
        "    keras.layers.Conv2D(\n",
        "        filters=hp.Int('conv_3_filter', min_value=32, max_value=64, step=16),\n",
        "        kernel_size=hp.Choice('conv_3_kernel', values = [3,5]),\n",
        "        activation='relu'\n",
        "    ),\n",
        "\n",
        "    keras.layers.Flatten(),\n",
        "    keras.layers.Dense(\n",
        "        units=hp.Int('dense_1_units', min_value=32, max_value=128, step=16),\n",
        "        activation='relu'\n",
        "    ),\n",
        "    keras.layers.Dense(4, activation='softmax')\n",
        "  ])\n",
        "  \n",
        "  model.compile(optimizer=keras.optimizers.Adam(hp.Choice('learning_rate', values=[1e-2, 1e-3])),\n",
        "              loss='categorical_crossentropy',\n",
        "              metrics=['accuracy'])\n",
        "  \n",
        "  return model"
      ]
    },
    {
      "cell_type": "markdown",
      "metadata": {
        "id": "kaFf3UZww_IH"
      },
      "source": [
        "**Using Random Search to find the optimal model:**"
      ]
    },
    {
      "cell_type": "code",
      "execution_count": 18,
      "metadata": {
        "id": "Mc-QSk34vDnk"
      },
      "outputs": [],
      "source": [
        "tuner_search=RandomSearch(build_model,\n",
        "                          objective='val_accuracy',\n",
        "                          max_trials=10,directory='/content/drive/MyDrive/project_neural_net/Model/output_new1',project_name=\"Brain_Tumor\")"
      ]
    },
    {
      "cell_type": "code",
      "execution_count": 19,
      "metadata": {
        "colab": {
          "base_uri": "https://localhost:8080/"
        },
        "id": "_hYzt-v3vDrE",
        "outputId": "3525f114-57ec-44d8-aaa5-a595ec059012"
      },
      "outputs": [
        {
          "output_type": "stream",
          "name": "stdout",
          "text": [
            "Trial 10 Complete [00h 14m 13s]\n",
            "val_accuracy: 0.6972476840019226\n",
            "\n",
            "Best val_accuracy So Far: 0.7003058195114136\n",
            "Total elapsed time: 01h 24m 20s\n",
            "INFO:tensorflow:Oracle triggered exit\n"
          ]
        }
      ],
      "source": [
        "tuner_search.search(train_dataset ,epochs = 45, callbacks=[EarlyStopping(monitor='val_loss', mode='min',patience=10)], validation_data=(valid_dataset))\n"
      ]
    },
    {
      "cell_type": "code",
      "execution_count": 20,
      "metadata": {
        "id": "Uo8DGLeRxYjM",
        "colab": {
          "base_uri": "https://localhost:8080/"
        },
        "outputId": "06ce8b86-1501-4a3f-b65c-599bbd77996c"
      },
      "outputs": [
        {
          "output_type": "stream",
          "name": "stdout",
          "text": [
            "Results summary\n",
            "Results in /content/drive/MyDrive/project_neural_net/Model/output_new1/Brain_Tumor\n",
            "Showing 10 best trials\n",
            "<keras_tuner.engine.objective.Objective object at 0x7fee60677710>\n",
            "Trial summary\n",
            "Hyperparameters:\n",
            "conv_1_filter: 80\n",
            "conv_1_kernel: 5\n",
            "conv_2_filter: 64\n",
            "conv_2_kernel: 5\n",
            "pool_1_size: 5\n",
            "conv_3_filter: 64\n",
            "conv_3_kernel: 5\n",
            "dense_1_units: 64\n",
            "learning_rate: 0.001\n",
            "Score: 0.7003058195114136\n",
            "Trial summary\n",
            "Hyperparameters:\n",
            "conv_1_filter: 48\n",
            "conv_1_kernel: 3\n",
            "conv_2_filter: 32\n",
            "conv_2_kernel: 3\n",
            "pool_1_size: 3\n",
            "conv_3_filter: 48\n",
            "conv_3_kernel: 5\n",
            "dense_1_units: 32\n",
            "learning_rate: 0.001\n",
            "Score: 0.6972476840019226\n",
            "Trial summary\n",
            "Hyperparameters:\n",
            "conv_1_filter: 80\n",
            "conv_1_kernel: 3\n",
            "conv_2_filter: 48\n",
            "conv_2_kernel: 5\n",
            "pool_1_size: 5\n",
            "conv_3_filter: 32\n",
            "conv_3_kernel: 5\n",
            "dense_1_units: 96\n",
            "learning_rate: 0.001\n",
            "Score: 0.6177369952201843\n",
            "Trial summary\n",
            "Hyperparameters:\n",
            "conv_1_filter: 96\n",
            "conv_1_kernel: 3\n",
            "conv_2_filter: 32\n",
            "conv_2_kernel: 3\n",
            "pool_1_size: 5\n",
            "conv_3_filter: 64\n",
            "conv_3_kernel: 5\n",
            "dense_1_units: 112\n",
            "learning_rate: 0.001\n",
            "Score: 0.60550457239151\n",
            "Trial summary\n",
            "Hyperparameters:\n",
            "conv_1_filter: 64\n",
            "conv_1_kernel: 5\n",
            "conv_2_filter: 64\n",
            "conv_2_kernel: 3\n",
            "pool_1_size: 3\n",
            "conv_3_filter: 32\n",
            "conv_3_kernel: 3\n",
            "dense_1_units: 112\n",
            "learning_rate: 0.001\n",
            "Score: 0.41590213775634766\n",
            "Trial summary\n",
            "Hyperparameters:\n",
            "conv_1_filter: 80\n",
            "conv_1_kernel: 5\n",
            "conv_2_filter: 32\n",
            "conv_2_kernel: 5\n",
            "pool_1_size: 5\n",
            "conv_3_filter: 64\n",
            "conv_3_kernel: 3\n",
            "dense_1_units: 48\n",
            "learning_rate: 0.01\n",
            "Score: 0.2844036817550659\n",
            "Trial summary\n",
            "Hyperparameters:\n",
            "conv_1_filter: 48\n",
            "conv_1_kernel: 5\n",
            "conv_2_filter: 48\n",
            "conv_2_kernel: 5\n",
            "pool_1_size: 5\n",
            "conv_3_filter: 48\n",
            "conv_3_kernel: 5\n",
            "dense_1_units: 48\n",
            "learning_rate: 0.01\n",
            "Score: 0.2844036817550659\n",
            "Trial summary\n",
            "Hyperparameters:\n",
            "conv_1_filter: 48\n",
            "conv_1_kernel: 3\n",
            "conv_2_filter: 48\n",
            "conv_2_kernel: 5\n",
            "pool_1_size: 3\n",
            "conv_3_filter: 48\n",
            "conv_3_kernel: 3\n",
            "dense_1_units: 80\n",
            "learning_rate: 0.01\n",
            "Score: 0.2844036817550659\n",
            "Trial summary\n",
            "Hyperparameters:\n",
            "conv_1_filter: 32\n",
            "conv_1_kernel: 5\n",
            "conv_2_filter: 64\n",
            "conv_2_kernel: 3\n",
            "pool_1_size: 3\n",
            "conv_3_filter: 64\n",
            "conv_3_kernel: 5\n",
            "dense_1_units: 112\n",
            "learning_rate: 0.01\n",
            "Score: 0.2844036817550659\n",
            "Trial summary\n",
            "Hyperparameters:\n",
            "conv_1_filter: 48\n",
            "conv_1_kernel: 5\n",
            "conv_2_filter: 48\n",
            "conv_2_kernel: 5\n",
            "pool_1_size: 5\n",
            "conv_3_filter: 48\n",
            "conv_3_kernel: 5\n",
            "dense_1_units: 80\n",
            "learning_rate: 0.01\n",
            "Score: 0.1529051959514618\n"
          ]
        }
      ],
      "source": [
        "tuner_search.results_summary()"
      ]
    },
    {
      "cell_type": "markdown",
      "metadata": {
        "id": "0rxygFVn0h25"
      },
      "source": [
        "**Taking the most optimal model:**"
      ]
    },
    {
      "cell_type": "code",
      "execution_count": 21,
      "metadata": {
        "id": "wxBDO3OwxYli"
      },
      "outputs": [],
      "source": [
        "model=tuner_search.get_best_models(num_models=1)[0]\n"
      ]
    },
    {
      "cell_type": "markdown",
      "metadata": {
        "id": "tc8gJsrM0mrj"
      },
      "source": [
        "**save model:**"
      ]
    },
    {
      "cell_type": "code",
      "execution_count": 22,
      "metadata": {
        "id": "QlwZ-qYHxYoE",
        "colab": {
          "base_uri": "https://localhost:8080/"
        },
        "outputId": "7afed34c-5198-48c2-db18-b573b70a103c"
      },
      "outputs": [
        {
          "output_type": "stream",
          "name": "stdout",
          "text": [
            "Model: \"sequential\"\n",
            "_________________________________________________________________\n",
            " Layer (type)                Output Shape              Param #   \n",
            "=================================================================\n",
            " conv2d (Conv2D)             (None, 220, 220, 80)      6080      \n",
            "                                                                 \n",
            " conv2d_1 (Conv2D)           (None, 216, 216, 64)      128064    \n",
            "                                                                 \n",
            " max_pooling2d (MaxPooling2D  (None, 43, 43, 64)       0         \n",
            " )                                                               \n",
            "                                                                 \n",
            " dropout (Dropout)           (None, 43, 43, 64)        0         \n",
            "                                                                 \n",
            " conv2d_2 (Conv2D)           (None, 39, 39, 64)        102464    \n",
            "                                                                 \n",
            " flatten (Flatten)           (None, 97344)             0         \n",
            "                                                                 \n",
            " dense (Dense)               (None, 64)                6230080   \n",
            "                                                                 \n",
            " dense_1 (Dense)             (None, 4)                 260       \n",
            "                                                                 \n",
            "=================================================================\n",
            "Total params: 6,466,948\n",
            "Trainable params: 6,466,948\n",
            "Non-trainable params: 0\n",
            "_________________________________________________________________\n",
            "INFO:tensorflow:Assets written to: /content/drive/MyDrive/project_neural_net/Model/hyperModel/assets\n"
          ]
        }
      ],
      "source": [
        "model.summary()\n",
        "model.save('/content/drive/MyDrive/project_neural_net/Model/hyperModel')"
      ]
    },
    {
      "cell_type": "markdown",
      "metadata": {
        "id": "4Sxsd27w2YrP"
      },
      "source": [
        "**calculation of predict images:**"
      ]
    },
    {
      "cell_type": "code",
      "execution_count": 31,
      "metadata": {
        "id": "JwwdZPRyxYrI"
      },
      "outputs": [],
      "source": [
        "y_pred=[]\n",
        "model = keras.models.load_model('/content/drive/MyDrive/project_neural_net/Model/hyperModel')\n",
        "'''This function loads an image'''\n",
        "\n",
        "def prepare_img(img, img_width, img_height,channels):\n",
        "    img =  tf.keras.preprocessing.image.img_to_array(img)\n",
        "    img = img.reshape(1, img_width, img_height, channels).astype('float32')\n",
        "    img = img / 255.0\n",
        "    return img\n",
        "\n",
        "\n",
        "for img in test_no_tumor:\n",
        "    img = load_img(test_ds+\"/no_tumor/\"+ img ,target_size=(224, 224))\n",
        "    img = prepare_img(img,224,224,3)\n",
        "    predictions = model.predict(img)\n",
        "    index_of_higher_value  = predictions[0].argmax()\n",
        "    y_pred.append(predictions[0].argmax())\n",
        "\n",
        "\n",
        "for img in test_glioma_tumor:\n",
        "    img = load_img(test_ds+ \"/glioma_tumor/\"+img ,target_size=(224, 224))\n",
        "    img = prepare_img(img,224,224,3)\n",
        "    predictions = model.predict(img)\n",
        "    index_of_higher_value  = predictions[0].argmax()\n",
        "    y_pred.append(predictions[0].argmax())\n",
        "\n",
        "\n",
        "for img in test_pituitary_tumor:\n",
        "    img = load_img(test_ds +\"/pituitary_tumor/\"+ img ,target_size=(224, 224))\n",
        "    img = prepare_img(img,224,224,3)\n",
        "    predictions = model.predict(img)\n",
        "    index_of_higher_value  = predictions[0].argmax()\n",
        "    y_pred.append(predictions[0].argmax())\n",
        "\n",
        "\n",
        "for img in test_meningioma_tumor:\n",
        "    img = load_img(test_ds+ \"/meningioma_tumor/\"+img,target_size=(224, 224))\n",
        "    img = prepare_img(img,224,224,3)\n",
        "    predictions = model.predict(img)\n",
        "    index_of_higher_value = predictions[0].argmax()\n",
        "    y_pred.append(predictions[0].argmax())"
      ]
    },
    {
      "cell_type": "markdown",
      "metadata": {
        "id": "HqsSq_3U2rSY"
      },
      "source": [
        "**calculation of accuracy,recall,precision and f1 score:**"
      ]
    },
    {
      "cell_type": "code",
      "execution_count": 33,
      "metadata": {
        "id": "aabflydzxYt2",
        "colab": {
          "base_uri": "https://localhost:8080/"
        },
        "outputId": "0ce279bb-b6f6-42c6-9c03-315a8adbbc29"
      },
      "outputs": [
        {
          "output_type": "stream",
          "name": "stdout",
          "text": [
            "Accuracy:  0.7\n",
            "Recall:  0.7\n",
            "Precision:  0.7\n",
            "f1 score : 0.69\n",
            "              precision    recall  f1-score   support\n",
            "\n",
            "           0       0.75      0.61      0.67        93\n",
            "           1       0.66      0.49      0.56        94\n",
            "           2       0.63      0.90      0.74        50\n",
            "           3       0.74      0.90      0.81        90\n",
            "\n",
            "    accuracy                           0.70       327\n",
            "   macro avg       0.69      0.73      0.70       327\n",
            "weighted avg       0.70      0.70      0.69       327\n",
            "\n"
          ]
        }
      ],
      "source": [
        "y_test=[2]*len(test_no_tumor)\n",
        "y_test+=[0]*len(test_glioma_tumor)\n",
        "y_test+=[3]*len( test_pituitary_tumor)\n",
        "y_test+=[1]*len(test_meningioma_tumor)\n",
        "\n",
        "print('Accuracy: ',round(accuracy_score(y_test, y_pred),2))\n",
        "print('Recall: ',round(recall_score(y_test, y_pred,average='weighted'),2))\n",
        "print('Precision: ',round(precision_score(y_test, y_pred,average='weighted'),2))\n",
        "print('f1 score :',round(f1_score(y_test,y_pred, average='weighted'),2))\n",
        "\n",
        "print(classification_report(y_test, y_pred))"
      ]
    },
    {
      "cell_type": "markdown",
      "metadata": {
        "id": "S111-XK-2wQi"
      },
      "source": [
        "**Visualization of images:**"
      ]
    },
    {
      "cell_type": "code",
      "execution_count": null,
      "metadata": {
        "id": "WC1KtTIQxY1j"
      },
      "outputs": [],
      "source": [
        "import ipyplot\n",
        "images=[]\n",
        "for i in os.listdir('./Data_jpg/a'):\n",
        "  images.append('./Data_jpg/a/'+i)\n",
        "\n",
        "labels=['adenocarcinoma','adenocarcinoma','adenocarcinoma','adenocarcinoma','adenocarcinoma','adenocarcinoma']\n",
        "ipyplot.plot_class_tabs(images,labels, img_width=150)\n",
        "\n",
        "\n",
        "\n",
        "images=[]\n",
        "for i in os.listdir('./Data_jpg/l'):\n",
        "  images.append('./Data_jpg/l/'+i)\n",
        "\n",
        "labels=['large','large','large','large','large','large']\n",
        "ipyplot.plot_class_tabs(images,labels, img_width=150)\n",
        "\n",
        "images=[]\n",
        "for i in os.listdir('./Data_jpg/s'):\n",
        "  images.append('./Data_jpg/s/'+i)\n",
        "\n",
        "labels=['squamous','squamous','squamous','squamous','squamous','squamous']\n",
        "ipyplot.plot_class_tabs(images,labels, img_width=150)\n",
        "\n",
        "\n",
        "images=[]\n",
        "for i in os.listdir('./Data_jpg/n'):\n",
        "  images.append('./Data_jpg/n/'+i)\n",
        "\n",
        "labels=['normal','normal','normal','normal','normal','normal']\n",
        "ipyplot.plot_class_tabs(images,labels, img_width=150)"
      ]
    }
  ],
  "metadata": {
    "accelerator": "GPU",
    "colab": {
      "name": "hyperPar.ipynb",
      "provenance": []
    },
    "gpuClass": "standard",
    "kernelspec": {
      "display_name": "Python 3",
      "name": "python3"
    },
    "language_info": {
      "name": "python"
    }
  },
  "nbformat": 4,
  "nbformat_minor": 0
}